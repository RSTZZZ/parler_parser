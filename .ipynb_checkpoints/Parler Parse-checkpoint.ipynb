{
 "cells": [
  {
   "cell_type": "code",
   "execution_count": null,
   "metadata": {},
   "outputs": [],
   "source": [
    "import glob\n",
    "\n",
    "files = glob.glob('posts/*')\n",
    "files\n"
   ]
  },
  {
   "cell_type": "code",
   "execution_count": null,
   "metadata": {},
   "outputs": [],
   "source": [
    "## Helper Functions to Get Specific Functions\n",
    "\n",
    "\n"
   ]
  },
  {
   "cell_type": "code",
   "execution_count": null,
   "metadata": {},
   "outputs": [],
   "source": [
    "from tqdm import tqdm\n",
    "from bs4 import BeautifulSoup\n",
    "\n",
    "import utils\n",
    "\n",
    "data = []\n",
    "\n",
    "\n",
    "for idx, file in enumerate(tqdm(files)):\n",
    "  doc_data = {}\n",
    "  with open(file, 'r', encoding = \"utf-8\" ) as html_doc:\n",
    "\n",
    "    soup = BeautifulSoup(html_doc, 'html.parser')\n",
    "    main_post_info = get_main_post_info(soup)\n",
    " \n",
    "    echoed_post_container = get_container(soup, 'span.reblock.echo--parent')\n",
    "    echoed_post_info = get_post_info_from_container(echoed_post_container)\n",
    "    main_post_info[\"echoed_post\"]  =  echoed_post_info\n",
    "\n",
    "    main_post_info = utils.merge_two_dicts(main_post_info, get_post_reactions(soup))\n",
    "    data.append(main_post_info)\n",
    "\n",
    "data"
   ]
  },
  {
   "cell_type": "code",
   "execution_count": 44,
   "metadata": {},
   "outputs": [
    {
     "ename": "AttributeError",
     "evalue": "'Article' object has no attribute 'convert'",
     "output_type": "error",
     "traceback": [
      "\u001b[1;31m---------------------------------------------------------------------------\u001b[0m",
      "\u001b[1;31mAttributeError\u001b[0m                            Traceback (most recent call last)",
      "\u001b[1;32m<ipython-input-44-d7ee8a2b586b>\u001b[0m in \u001b[0;36m<module>\u001b[1;34m\u001b[0m\n\u001b[0;32m      3\u001b[0m \u001b[0mtestArticle\u001b[0m \u001b[1;33m=\u001b[0m \u001b[0mArticle\u001b[0m\u001b[1;33m(\u001b[0m\u001b[1;33m)\u001b[0m\u001b[1;33m\u001b[0m\u001b[1;33m\u001b[0m\u001b[0m\n\u001b[0;32m      4\u001b[0m \u001b[1;33m\u001b[0m\u001b[0m\n\u001b[1;32m----> 5\u001b[1;33m \u001b[0mtestArticle\u001b[0m\u001b[1;33m.\u001b[0m\u001b[0mconvert\u001b[0m\u001b[1;33m(\u001b[0m\u001b[1;33m)\u001b[0m\u001b[1;33m\u001b[0m\u001b[1;33m\u001b[0m\u001b[0m\n\u001b[0m",
      "\u001b[1;31mAttributeError\u001b[0m: 'Article' object has no attribute 'convert'"
     ]
    }
   ],
   "source": [
    "from parler.dataType.mediaTypes.article import Article\n",
    "\n",
    "testArticle = Article()\n",
    "\n",
    "print(testArticle.convert())\n"
   ]
  },
  {
   "cell_type": "code",
   "execution_count": null,
   "metadata": {},
   "outputs": [],
   "source": [
    "from parler.dataType.mediaTypes.audio import Audio\n",
    "testAudio = Audio(title = \"Title\", excerpt = \"Excerpt\", src = \"source\")\n",
    "\n",
    "print(testAudio.convert())\n",
    "\n",
    "testAudio2 = Audio()\n",
    "print(testAudio2.convert())\n"
   ]
  },
  {
   "cell_type": "code",
   "execution_count": null,
   "metadata": {},
   "outputs": [],
   "source": [
    "from parler.dataType.media import Media\n",
    "\n",
    "testMedia = Media()\n",
    "\n",
    "testMedia.to_dict()"
   ]
  },
  {
   "cell_type": "code",
   "execution_count": null,
   "metadata": {},
   "outputs": [],
   "source": []
  }
 ],
 "metadata": {
  "kernelspec": {
   "display_name": "Python 3",
   "language": "python",
   "name": "python3"
  },
  "language_info": {
   "codemirror_mode": {
    "name": "ipython",
    "version": 3
   },
   "file_extension": ".py",
   "mimetype": "text/x-python",
   "name": "python",
   "nbconvert_exporter": "python",
   "pygments_lexer": "ipython3",
   "version": "3.8.3"
  }
 },
 "nbformat": 4,
 "nbformat_minor": 4
}
